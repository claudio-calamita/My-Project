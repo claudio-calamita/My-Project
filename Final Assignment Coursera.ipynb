{
 "cells": [
  {
   "cell_type": "markdown",
   "metadata": {},
   "source": [
    "# Final Project Coursera\n",
    "In this project I want to explore Naples City (Italy) in order to show it is a good City for an investment in hotels and restaurant.\n",
    "The mayor is trying to relaunch the city. He is in charge from **Vedere Anno**. We had several events as **Coppa Devis da Vedere** , **La coppa America** "
   ]
  },
  {
   "cell_type": "markdown",
   "metadata": {},
   "source": [
    "__Let's first of all try to import data for boroughs and neighborhoods__"
   ]
  },
  {
   "cell_type": "code",
   "execution_count": 2,
   "metadata": {},
   "outputs": [],
   "source": [
    "from bs4 import BeautifulSoup\n",
    "import requests # library to handle requests\n",
    "\n",
    "import pandas as pd ### library for manipulating data as dataframe\n",
    "\n",
    "import functools as ft ## function tools for reduce command\n",
    "\n",
    "import numpy as np ## numpy array\n",
    "\n",
    "import matplotlib ## library for plotting \n",
    "import matplotlib.pyplot as plt ## plots\n",
    "%matplotlib inline\n",
    "\n",
    "from geopy.geocoders import Nominatim # convert an address into latitude and longitude values\n",
    "import folium # map rendering library\n",
    "import shapefile\n"
   ]
  },
  {
   "cell_type": "markdown",
   "metadata": {},
   "source": [
    "# Import dataframe for boroughs and neighborhoods\n"
   ]
  },
  {
   "cell_type": "code",
   "execution_count": 3,
   "metadata": {},
   "outputs": [
    {
     "data": {
      "text/html": [
       "<div>\n",
       "<style scoped>\n",
       "    .dataframe tbody tr th:only-of-type {\n",
       "        vertical-align: middle;\n",
       "    }\n",
       "\n",
       "    .dataframe tbody tr th {\n",
       "        vertical-align: top;\n",
       "    }\n",
       "\n",
       "    .dataframe thead th {\n",
       "        text-align: right;\n",
       "    }\n",
       "</style>\n",
       "<table border=\"1\" class=\"dataframe\">\n",
       "  <thead>\n",
       "    <tr style=\"text-align: right;\">\n",
       "      <th></th>\n",
       "      <th>Distretto</th>\n",
       "      <th>Superficie</th>\n",
       "      <th>Popolazione</th>\n",
       "      <th>Densità</th>\n",
       "      <th>Presidente</th>\n",
       "      <th>Quartieri</th>\n",
       "      <th>Mappa</th>\n",
       "    </tr>\n",
       "  </thead>\n",
       "  <tbody>\n",
       "    <tr>\n",
       "      <th>0</th>\n",
       "      <td>Municipalità I</td>\n",
       "      <td>8,80 km²</td>\n",
       "      <td>82 673</td>\n",
       "      <td>9.553,07 ab./km²</td>\n",
       "      <td>Francesco de Giovanni di Santa Severina (Forza...</td>\n",
       "      <td>Chiaia, Posillipo, San Ferdinando</td>\n",
       "      <td>NaN</td>\n",
       "    </tr>\n",
       "    <tr>\n",
       "      <th>1</th>\n",
       "      <td>Municipalità II</td>\n",
       "      <td>4,56 km²</td>\n",
       "      <td>91 536</td>\n",
       "      <td>20.073,68 ab./km²</td>\n",
       "      <td>Francesco Chirico</td>\n",
       "      <td>Avvocata, Montecalvario, Pendino, Porto, Merca...</td>\n",
       "      <td>NaN</td>\n",
       "    </tr>\n",
       "    <tr>\n",
       "      <th>2</th>\n",
       "      <td>Municipalità III</td>\n",
       "      <td>9,51 km²</td>\n",
       "      <td>103 633</td>\n",
       "      <td>10.897,27 ab./km²</td>\n",
       "      <td>Ivo Poggiani (Lista DemA)</td>\n",
       "      <td>Stella, San Carlo all'Arena</td>\n",
       "      <td>NaN</td>\n",
       "    </tr>\n",
       "    <tr>\n",
       "      <th>3</th>\n",
       "      <td>Municipalità IV</td>\n",
       "      <td>9,27 km²</td>\n",
       "      <td>96 078</td>\n",
       "      <td>10.364,4 ab./km²</td>\n",
       "      <td>Giampiero Perrella</td>\n",
       "      <td>San Lorenzo, Vicaria, Poggioreale, Zona Indust...</td>\n",
       "      <td>NaN</td>\n",
       "    </tr>\n",
       "    <tr>\n",
       "      <th>4</th>\n",
       "      <td>Municipalità V</td>\n",
       "      <td>7,42 km²</td>\n",
       "      <td>119 978</td>\n",
       "      <td>16 169,54 ab./km²</td>\n",
       "      <td>Paolo De Luca</td>\n",
       "      <td>Vomero, Arenella</td>\n",
       "      <td>NaN</td>\n",
       "    </tr>\n",
       "    <tr>\n",
       "      <th>5</th>\n",
       "      <td>Municipalità VI</td>\n",
       "      <td>19,28 km²</td>\n",
       "      <td>138 641</td>\n",
       "      <td>7 190,92 ab./km²</td>\n",
       "      <td>Salvatore Boggia</td>\n",
       "      <td>Ponticelli, Barra, San Giovanni a Teduccio</td>\n",
       "      <td>NaN</td>\n",
       "    </tr>\n",
       "    <tr>\n",
       "      <th>6</th>\n",
       "      <td>Municipalità VII</td>\n",
       "      <td>10,26 km²</td>\n",
       "      <td>91 460</td>\n",
       "      <td>8 914,23 ab./km²</td>\n",
       "      <td>Maurizio Moschetti</td>\n",
       "      <td>Miano, Secondigliano, San Pietro a Patierno</td>\n",
       "      <td>NaN</td>\n",
       "    </tr>\n",
       "    <tr>\n",
       "      <th>7</th>\n",
       "      <td>Municipalità VIII</td>\n",
       "      <td>17,45 km²</td>\n",
       "      <td>92 616</td>\n",
       "      <td>5 307,51 ab./km²</td>\n",
       "      <td>Paipais Apostolos</td>\n",
       "      <td>Piscinola, Marianella, Scampia, Chiaiano</td>\n",
       "      <td>NaN</td>\n",
       "    </tr>\n",
       "    <tr>\n",
       "      <th>8</th>\n",
       "      <td>Municipalità IX</td>\n",
       "      <td>16,56 km²</td>\n",
       "      <td>106 299</td>\n",
       "      <td>6 419,02 ab./km²</td>\n",
       "      <td>Lorenzo Giannalavigna (PD)</td>\n",
       "      <td>Soccavo, Pianura</td>\n",
       "      <td>NaN</td>\n",
       "    </tr>\n",
       "    <tr>\n",
       "      <th>9</th>\n",
       "      <td>Municipalità X</td>\n",
       "      <td>14,16 km²</td>\n",
       "      <td>101 192</td>\n",
       "      <td>7 416,38 ab./km²</td>\n",
       "      <td>Diego Civitillo</td>\n",
       "      <td>Bagnoli, Fuorigrotta</td>\n",
       "      <td>NaN</td>\n",
       "    </tr>\n",
       "  </tbody>\n",
       "</table>\n",
       "</div>"
      ],
      "text/plain": [
       "           Distretto Superficie Popolazione            Densità  \\\n",
       "0     Municipalità I   8,80 km²      82 673   9.553,07 ab./km²   \n",
       "1    Municipalità II   4,56 km²      91 536  20.073,68 ab./km²   \n",
       "2   Municipalità III   9,51 km²     103 633  10.897,27 ab./km²   \n",
       "3    Municipalità IV   9,27 km²      96 078   10.364,4 ab./km²   \n",
       "4     Municipalità V   7,42 km²     119 978  16 169,54 ab./km²   \n",
       "5    Municipalità VI  19,28 km²     138 641   7 190,92 ab./km²   \n",
       "6   Municipalità VII  10,26 km²      91 460   8 914,23 ab./km²   \n",
       "7  Municipalità VIII  17,45 km²      92 616   5 307,51 ab./km²   \n",
       "8    Municipalità IX  16,56 km²     106 299   6 419,02 ab./km²   \n",
       "9     Municipalità X  14,16 km²     101 192   7 416,38 ab./km²   \n",
       "\n",
       "                                          Presidente  \\\n",
       "0  Francesco de Giovanni di Santa Severina (Forza...   \n",
       "1                                  Francesco Chirico   \n",
       "2                          Ivo Poggiani (Lista DemA)   \n",
       "3                                 Giampiero Perrella   \n",
       "4                                      Paolo De Luca   \n",
       "5                                   Salvatore Boggia   \n",
       "6                                 Maurizio Moschetti   \n",
       "7                                  Paipais Apostolos   \n",
       "8                         Lorenzo Giannalavigna (PD)   \n",
       "9                                    Diego Civitillo   \n",
       "\n",
       "                                           Quartieri  Mappa  \n",
       "0                  Chiaia, Posillipo, San Ferdinando    NaN  \n",
       "1  Avvocata, Montecalvario, Pendino, Porto, Merca...    NaN  \n",
       "2                        Stella, San Carlo all'Arena    NaN  \n",
       "3  San Lorenzo, Vicaria, Poggioreale, Zona Indust...    NaN  \n",
       "4                                   Vomero, Arenella    NaN  \n",
       "5         Ponticelli, Barra, San Giovanni a Teduccio    NaN  \n",
       "6        Miano, Secondigliano, San Pietro a Patierno    NaN  \n",
       "7           Piscinola, Marianella, Scampia, Chiaiano    NaN  \n",
       "8                                   Soccavo, Pianura    NaN  \n",
       "9                               Bagnoli, Fuorigrotta    NaN  "
      ]
     },
     "execution_count": 3,
     "metadata": {},
     "output_type": "execute_result"
    }
   ],
   "source": [
    "#scrape site\n",
    "res_all = requests.get(\"https://it.wikipedia.org/wiki/Municipalit%C3%A0_di_Napoli\")\n",
    "soup_all = BeautifulSoup(res_all.content, features='html')\n",
    "\n",
    "# convert in dataframe\n",
    "table = soup_all.find_all('table')[0] \n",
    "df = pd.read_html(str(table))[0]\n",
    "df\n"
   ]
  },
  {
   "cell_type": "markdown",
   "metadata": {},
   "source": [
    "# Import geospatial data for every borough\n",
    "In the website scraped are not present the coordinates for every borough but you can find in the site for the specific borough. The site are always of same form, changing just the number of borough. In every site the coordinates are in 'span class = \"geo\"'. \n",
    "\n",
    "__In order To build the data frame let's do the following steps:__"
   ]
  },
  {
   "cell_type": "markdown",
   "metadata": {},
   "source": [
    "1. take the base site type: \"https://it.wikipedia.org/wiki/Municipalit%C3%A0_\" + number + \"_di_Napoli\":"
   ]
  },
  {
   "cell_type": "code",
   "execution_count": 4,
   "metadata": {},
   "outputs": [],
   "source": [
    "firstPartOfSite = \"https://it.wikipedia.org/wiki/Municipalit%C3%A0_\"\n",
    "thirdPartOfSite = \"_di_Napoli\""
   ]
  },
  {
   "cell_type": "markdown",
   "metadata": {},
   "source": [
    "2. take the number of boroughs:"
   ]
  },
  {
   "cell_type": "code",
   "execution_count": 5,
   "metadata": {},
   "outputs": [],
   "source": [
    "numberBoroughs = len(df)"
   ]
  },
  {
   "cell_type": "markdown",
   "metadata": {},
   "source": [
    "3. do for cycle for every borough building url and scraping site:"
   ]
  },
  {
   "cell_type": "code",
   "execution_count": 6,
   "metadata": {},
   "outputs": [],
   "source": [
    "latitude = [];\n",
    "longitude = [];\n",
    "for number in range(1, numberBoroughs+1): ### the right extreme of range is not inclusive\n",
    "    ## Define url\n",
    "    url = firstPartOfSite + str(number) + thirdPartOfSite\n",
    "    \n",
    "    ## Scrape site\n",
    "    res_borough = requests.get(url)\n",
    "    soup_borough = BeautifulSoup(res_borough.content, features='html')\n",
    "    \n",
    "    ## Get Coordinates\n",
    "    coordinates = soup_borough.find_all('span', attrs={\"class\":\"geo\"})[0].text\n",
    "    latLong = [float(coord) for coord in (coordinates.split('; '))]\n",
    "    latitude.append(latLong[0])\n",
    "    longitude.append(latLong[1])"
   ]
  },
  {
   "cell_type": "markdown",
   "metadata": {},
   "source": [
    "# Build DataFrame "
   ]
  },
  {
   "cell_type": "code",
   "execution_count": 7,
   "metadata": {},
   "outputs": [],
   "source": [
    "df.drop(columns=['Presidente', 'Mappa'], inplace=True)"
   ]
  },
  {
   "cell_type": "code",
   "execution_count": 8,
   "metadata": {},
   "outputs": [],
   "source": [
    "## Rename\n",
    "df.columns = ['Municipality', 'Surface_km2', 'Population', 'Density_per_km2', 'Neighborhood']\n",
    "\n",
    "## Modify Municipality\n",
    "df['Municipality'] = df['Municipality'].str.replace(\" \", \"_\")\n",
    "\n",
    "## Modify Surface\n",
    "surface_numpy = df['Surface_km2'].to_numpy()\n",
    "df['Surface_km2'] = [float(num.split()[0].replace(\",\",\".\")) for num in surface_numpy]\n",
    "\n",
    "## Modify Population\n",
    "population_numpy = df['Population'].to_numpy()\n",
    "df['Population'] = [float(ft.reduce(lambda x, y: x + y, num.split())) for num in population_numpy]\n",
    "\n",
    "## Modify Density\n",
    "df['Density_per_km2'] = np.around(np.divide(df['Population'].to_numpy(), df['Surface_km2'].to_numpy()), decimals = 2)\n",
    "\n",
    "## Add numbers of Neighborhoods for descritive analyses\n",
    "neighborhood_numpy = df['Neighborhood'].to_numpy()\n",
    "number_Neighborhoods = [neigh.split(',') for neigh in neighborhood_numpy]\n",
    "number_Neighborhoods = [len(a) for a in number_Neighborhoods]\n",
    "df['number_Neighborhoods'] = number_Neighborhoods\n",
    " \n",
    "## Add Latitude and Longitude\n",
    "df['Latitude'] = latitude\n",
    "df['Longitude'] = longitude"
   ]
  },
  {
   "cell_type": "code",
   "execution_count": 9,
   "metadata": {
    "scrolled": true
   },
   "outputs": [
    {
     "data": {
      "text/html": [
       "<div>\n",
       "<style scoped>\n",
       "    .dataframe tbody tr th:only-of-type {\n",
       "        vertical-align: middle;\n",
       "    }\n",
       "\n",
       "    .dataframe tbody tr th {\n",
       "        vertical-align: top;\n",
       "    }\n",
       "\n",
       "    .dataframe thead th {\n",
       "        text-align: right;\n",
       "    }\n",
       "</style>\n",
       "<table border=\"1\" class=\"dataframe\">\n",
       "  <thead>\n",
       "    <tr style=\"text-align: right;\">\n",
       "      <th></th>\n",
       "      <th>Municipality</th>\n",
       "      <th>Surface_km2</th>\n",
       "      <th>Population</th>\n",
       "      <th>Density_per_km2</th>\n",
       "      <th>Neighborhood</th>\n",
       "      <th>number_Neighborhoods</th>\n",
       "      <th>Latitude</th>\n",
       "      <th>Longitude</th>\n",
       "    </tr>\n",
       "  </thead>\n",
       "  <tbody>\n",
       "    <tr>\n",
       "      <th>0</th>\n",
       "      <td>Municipalità_I</td>\n",
       "      <td>8.80</td>\n",
       "      <td>82673.0</td>\n",
       "      <td>9394.66</td>\n",
       "      <td>Chiaia, Posillipo, San Ferdinando</td>\n",
       "      <td>3</td>\n",
       "      <td>40.805556</td>\n",
       "      <td>14.203333</td>\n",
       "    </tr>\n",
       "    <tr>\n",
       "      <th>1</th>\n",
       "      <td>Municipalità_II</td>\n",
       "      <td>4.56</td>\n",
       "      <td>91536.0</td>\n",
       "      <td>20073.68</td>\n",
       "      <td>Avvocata, Montecalvario, Pendino, Porto, Merca...</td>\n",
       "      <td>6</td>\n",
       "      <td>40.847645</td>\n",
       "      <td>14.261577</td>\n",
       "    </tr>\n",
       "    <tr>\n",
       "      <th>2</th>\n",
       "      <td>Municipalità_III</td>\n",
       "      <td>9.51</td>\n",
       "      <td>103633.0</td>\n",
       "      <td>10897.27</td>\n",
       "      <td>Stella, San Carlo all'Arena</td>\n",
       "      <td>2</td>\n",
       "      <td>40.863290</td>\n",
       "      <td>14.255261</td>\n",
       "    </tr>\n",
       "    <tr>\n",
       "      <th>3</th>\n",
       "      <td>Municipalità_IV</td>\n",
       "      <td>9.27</td>\n",
       "      <td>96078.0</td>\n",
       "      <td>10364.40</td>\n",
       "      <td>San Lorenzo, Vicaria, Poggioreale, Zona Indust...</td>\n",
       "      <td>4</td>\n",
       "      <td>40.868743</td>\n",
       "      <td>14.301424</td>\n",
       "    </tr>\n",
       "    <tr>\n",
       "      <th>4</th>\n",
       "      <td>Municipalità_V</td>\n",
       "      <td>7.42</td>\n",
       "      <td>119978.0</td>\n",
       "      <td>16169.54</td>\n",
       "      <td>Vomero, Arenella</td>\n",
       "      <td>2</td>\n",
       "      <td>40.865887</td>\n",
       "      <td>14.222102</td>\n",
       "    </tr>\n",
       "    <tr>\n",
       "      <th>5</th>\n",
       "      <td>Municipalità_VI</td>\n",
       "      <td>19.28</td>\n",
       "      <td>138641.0</td>\n",
       "      <td>7190.92</td>\n",
       "      <td>Ponticelli, Barra, San Giovanni a Teduccio</td>\n",
       "      <td>3</td>\n",
       "      <td>40.853699</td>\n",
       "      <td>14.332309</td>\n",
       "    </tr>\n",
       "    <tr>\n",
       "      <th>6</th>\n",
       "      <td>Municipalità_VII</td>\n",
       "      <td>10.26</td>\n",
       "      <td>91460.0</td>\n",
       "      <td>8914.23</td>\n",
       "      <td>Miano, Secondigliano, San Pietro a Patierno</td>\n",
       "      <td>3</td>\n",
       "      <td>40.890017</td>\n",
       "      <td>14.263705</td>\n",
       "    </tr>\n",
       "    <tr>\n",
       "      <th>7</th>\n",
       "      <td>Municipalità_VIII</td>\n",
       "      <td>17.45</td>\n",
       "      <td>92616.0</td>\n",
       "      <td>5307.51</td>\n",
       "      <td>Piscinola, Marianella, Scampia, Chiaiano</td>\n",
       "      <td>4</td>\n",
       "      <td>40.892900</td>\n",
       "      <td>14.237700</td>\n",
       "    </tr>\n",
       "    <tr>\n",
       "      <th>8</th>\n",
       "      <td>Municipalità_IX</td>\n",
       "      <td>16.56</td>\n",
       "      <td>106299.0</td>\n",
       "      <td>6419.02</td>\n",
       "      <td>Soccavo, Pianura</td>\n",
       "      <td>2</td>\n",
       "      <td>40.858422</td>\n",
       "      <td>14.170289</td>\n",
       "    </tr>\n",
       "    <tr>\n",
       "      <th>9</th>\n",
       "      <td>Municipalità_X</td>\n",
       "      <td>14.16</td>\n",
       "      <td>101192.0</td>\n",
       "      <td>7146.33</td>\n",
       "      <td>Bagnoli, Fuorigrotta</td>\n",
       "      <td>2</td>\n",
       "      <td>40.818117</td>\n",
       "      <td>14.163919</td>\n",
       "    </tr>\n",
       "  </tbody>\n",
       "</table>\n",
       "</div>"
      ],
      "text/plain": [
       "        Municipality  Surface_km2  Population  Density_per_km2  \\\n",
       "0     Municipalità_I         8.80     82673.0          9394.66   \n",
       "1    Municipalità_II         4.56     91536.0         20073.68   \n",
       "2   Municipalità_III         9.51    103633.0         10897.27   \n",
       "3    Municipalità_IV         9.27     96078.0         10364.40   \n",
       "4     Municipalità_V         7.42    119978.0         16169.54   \n",
       "5    Municipalità_VI        19.28    138641.0          7190.92   \n",
       "6   Municipalità_VII        10.26     91460.0          8914.23   \n",
       "7  Municipalità_VIII        17.45     92616.0          5307.51   \n",
       "8    Municipalità_IX        16.56    106299.0          6419.02   \n",
       "9     Municipalità_X        14.16    101192.0          7146.33   \n",
       "\n",
       "                                        Neighborhood  number_Neighborhoods  \\\n",
       "0                  Chiaia, Posillipo, San Ferdinando                     3   \n",
       "1  Avvocata, Montecalvario, Pendino, Porto, Merca...                     6   \n",
       "2                        Stella, San Carlo all'Arena                     2   \n",
       "3  San Lorenzo, Vicaria, Poggioreale, Zona Indust...                     4   \n",
       "4                                   Vomero, Arenella                     2   \n",
       "5         Ponticelli, Barra, San Giovanni a Teduccio                     3   \n",
       "6        Miano, Secondigliano, San Pietro a Patierno                     3   \n",
       "7           Piscinola, Marianella, Scampia, Chiaiano                     4   \n",
       "8                                   Soccavo, Pianura                     2   \n",
       "9                               Bagnoli, Fuorigrotta                     2   \n",
       "\n",
       "    Latitude  Longitude  \n",
       "0  40.805556  14.203333  \n",
       "1  40.847645  14.261577  \n",
       "2  40.863290  14.255261  \n",
       "3  40.868743  14.301424  \n",
       "4  40.865887  14.222102  \n",
       "5  40.853699  14.332309  \n",
       "6  40.890017  14.263705  \n",
       "7  40.892900  14.237700  \n",
       "8  40.858422  14.170289  \n",
       "9  40.818117  14.163919  "
      ]
     },
     "execution_count": 9,
     "metadata": {},
     "output_type": "execute_result"
    }
   ],
   "source": [
    "df"
   ]
  },
  {
   "cell_type": "markdown",
   "metadata": {},
   "source": [
    "# Plotting Boroughs on map"
   ]
  },
  {
   "cell_type": "code",
   "execution_count": 10,
   "metadata": {
    "scrolled": true
   },
   "outputs": [
    {
     "name": "stdout",
     "output_type": "stream",
     "text": [
      "The geograpical coordinate of Naples are 40.8359336, 14.2487826.\n"
     ]
    }
   ],
   "source": [
    "# Initialize a map\n",
    "### Use geopy to extract a coordinate for Toronto address \n",
    "address = 'Napoli, Na'\n",
    "\n",
    "geolocator = Nominatim(user_agent=\"my_explorer\")\n",
    "\n",
    "location = geolocator.geocode(address)\n",
    "latAddress = location.latitude\n",
    "longAddress = location.longitude\n",
    "\n",
    "print('The geograpical coordinate of Naples are {}, {}.'.format(latAddress, longAddress))"
   ]
  },
  {
   "cell_type": "code",
   "execution_count": 11,
   "metadata": {
    "scrolled": true
   },
   "outputs": [
    {
     "data": {
      "text/html": [
       "<div style=\"width:100%;\"><div style=\"position:relative;width:100%;height:0;padding-bottom:60%;\"><iframe src=\"data:text/html;charset=utf-8;base64,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\" style=\"position:absolute;width:100%;height:100%;left:0;top:0;border:none !important;\" allowfullscreen webkitallowfullscreen mozallowfullscreen></iframe></div></div>"
      ],
      "text/plain": [
       "<folium.folium.Map at 0x111098610>"
      ]
     },
     "execution_count": 11,
     "metadata": {},
     "output_type": "execute_result"
    }
   ],
   "source": [
    "# create map of Naples using latitude and longitude values\n",
    "map_naples = folium.Map(location=[latAddress, longAddress], zoom_start=10)\n",
    "\n",
    "# add markers to map\n",
    "for lat, lng, borough, neighborhood in zip(df['Latitude'], df['Longitude'], df['Municipality'], df['Neighborhood']):\n",
    "    label = '{}, {}'.format(neighborhood, borough)\n",
    "    label = folium.Popup(label, parse_html=True)\n",
    "    folium.CircleMarker(\n",
    "        [lat, lng],\n",
    "        radius=5,\n",
    "        popup=label,\n",
    "        color='blue',\n",
    "        fill=True,\n",
    "        fill_color='#3186cc',\n",
    "        fill_opacity=0.5,\n",
    "        parse_html=False).add_to(map_naples)  \n",
    "    \n",
    "map_naples    "
   ]
  },
  {
   "cell_type": "markdown",
   "metadata": {},
   "source": [
    "## Let's import shapefile"
   ]
  },
  {
   "cell_type": "markdown",
   "metadata": {},
   "source": [
    "# Analisi descrittiva del dataframe"
   ]
  },
  {
   "cell_type": "code",
   "execution_count": 12,
   "metadata": {},
   "outputs": [
    {
     "data": {
      "text/html": [
       "<div>\n",
       "<style scoped>\n",
       "    .dataframe tbody tr th:only-of-type {\n",
       "        vertical-align: middle;\n",
       "    }\n",
       "\n",
       "    .dataframe tbody tr th {\n",
       "        vertical-align: top;\n",
       "    }\n",
       "\n",
       "    .dataframe thead th {\n",
       "        text-align: right;\n",
       "    }\n",
       "</style>\n",
       "<table border=\"1\" class=\"dataframe\">\n",
       "  <thead>\n",
       "    <tr style=\"text-align: right;\">\n",
       "      <th></th>\n",
       "      <th>Surface_km2</th>\n",
       "      <th>Population</th>\n",
       "      <th>Density_per_km2</th>\n",
       "      <th>number_Neighborhoods</th>\n",
       "      <th>Latitude</th>\n",
       "      <th>Longitude</th>\n",
       "    </tr>\n",
       "  </thead>\n",
       "  <tbody>\n",
       "    <tr>\n",
       "      <th>count</th>\n",
       "      <td>10.000000</td>\n",
       "      <td>10.00000</td>\n",
       "      <td>10.000000</td>\n",
       "      <td>10.000000</td>\n",
       "      <td>10.000000</td>\n",
       "      <td>10.000000</td>\n",
       "    </tr>\n",
       "    <tr>\n",
       "      <th>mean</th>\n",
       "      <td>11.727000</td>\n",
       "      <td>102410.60000</td>\n",
       "      <td>10187.756000</td>\n",
       "      <td>3.100000</td>\n",
       "      <td>40.856428</td>\n",
       "      <td>14.241162</td>\n",
       "    </tr>\n",
       "    <tr>\n",
       "      <th>std</th>\n",
       "      <td>4.838106</td>\n",
       "      <td>16340.59621</td>\n",
       "      <td>4625.415132</td>\n",
       "      <td>1.286684</td>\n",
       "      <td>0.027670</td>\n",
       "      <td>0.053602</td>\n",
       "    </tr>\n",
       "    <tr>\n",
       "      <th>min</th>\n",
       "      <td>4.560000</td>\n",
       "      <td>82673.00000</td>\n",
       "      <td>5307.510000</td>\n",
       "      <td>2.000000</td>\n",
       "      <td>40.805556</td>\n",
       "      <td>14.163919</td>\n",
       "    </tr>\n",
       "    <tr>\n",
       "      <th>25%</th>\n",
       "      <td>8.917500</td>\n",
       "      <td>91806.00000</td>\n",
       "      <td>7157.477500</td>\n",
       "      <td>2.000000</td>\n",
       "      <td>40.849159</td>\n",
       "      <td>14.208025</td>\n",
       "    </tr>\n",
       "    <tr>\n",
       "      <th>50%</th>\n",
       "      <td>9.885000</td>\n",
       "      <td>98635.00000</td>\n",
       "      <td>9154.445000</td>\n",
       "      <td>3.000000</td>\n",
       "      <td>40.860856</td>\n",
       "      <td>14.246481</td>\n",
       "    </tr>\n",
       "    <tr>\n",
       "      <th>75%</th>\n",
       "      <td>15.960000</td>\n",
       "      <td>105632.50000</td>\n",
       "      <td>10764.052500</td>\n",
       "      <td>3.750000</td>\n",
       "      <td>40.868029</td>\n",
       "      <td>14.263173</td>\n",
       "    </tr>\n",
       "    <tr>\n",
       "      <th>max</th>\n",
       "      <td>19.280000</td>\n",
       "      <td>138641.00000</td>\n",
       "      <td>20073.680000</td>\n",
       "      <td>6.000000</td>\n",
       "      <td>40.892900</td>\n",
       "      <td>14.332309</td>\n",
       "    </tr>\n",
       "  </tbody>\n",
       "</table>\n",
       "</div>"
      ],
      "text/plain": [
       "       Surface_km2    Population  Density_per_km2  number_Neighborhoods  \\\n",
       "count    10.000000      10.00000        10.000000             10.000000   \n",
       "mean     11.727000  102410.60000     10187.756000              3.100000   \n",
       "std       4.838106   16340.59621      4625.415132              1.286684   \n",
       "min       4.560000   82673.00000      5307.510000              2.000000   \n",
       "25%       8.917500   91806.00000      7157.477500              2.000000   \n",
       "50%       9.885000   98635.00000      9154.445000              3.000000   \n",
       "75%      15.960000  105632.50000     10764.052500              3.750000   \n",
       "max      19.280000  138641.00000     20073.680000              6.000000   \n",
       "\n",
       "        Latitude  Longitude  \n",
       "count  10.000000  10.000000  \n",
       "mean   40.856428  14.241162  \n",
       "std     0.027670   0.053602  \n",
       "min    40.805556  14.163919  \n",
       "25%    40.849159  14.208025  \n",
       "50%    40.860856  14.246481  \n",
       "75%    40.868029  14.263173  \n",
       "max    40.892900  14.332309  "
      ]
     },
     "execution_count": 12,
     "metadata": {},
     "output_type": "execute_result"
    }
   ],
   "source": [
    "df.describe()"
   ]
  },
  {
   "cell_type": "code",
   "execution_count": 13,
   "metadata": {},
   "outputs": [
    {
     "data": {
      "text/plain": [
       "<matplotlib.legend.Legend at 0x11327ee90>"
      ]
     },
     "execution_count": 13,
     "metadata": {},
     "output_type": "execute_result"
    },
    {
     "data": {
      "image/png": "[encoded data removed]",
      "text/plain": [
       "<Figure size 1080x576 with 4 Axes>"
      ]
     },
     "metadata": {
      "needs_background": "light"
     },
     "output_type": "display_data"
    }
   ],
   "source": [
    "## Bar Plot\n",
    "x = np.arange(1, len(df)+1)  # the label locations\n",
    "\n",
    "width = 0.35  # the width of the bars\n",
    "\n",
    "fig, axs = plt.subplots(2,2) ## Create a figure and a set of sublots\n",
    "fig.set_size_inches(15, 8)\n",
    "colors = ['black', 'red', 'green', 'blue']\n",
    "\n",
    "# Plot Surface\n",
    "axs[0,0].bar(x, df['Surface_km2'].to_numpy(), width, label='Surface_km2', color = colors[0])\n",
    "\n",
    "axs[0,0].set_xlabel('Municipality')\n",
    "axs[0,0].set_xticks(x)\n",
    "axs[0,0].set_ylabel('km^2')\n",
    "axs[0,0].legend()\n",
    "\n",
    "# Plot Population\n",
    "axs[0,1].bar(x, df['Population'].to_numpy(), width, label='Population', color = colors[1])\n",
    "\n",
    "axs[0,1].set_xlabel('Municipality')\n",
    "axs[0,1].set_xticks(x)\n",
    "axs[0,1].legend()\n",
    "\n",
    "# Plot Density\n",
    "axs[1,0].bar(x, df['Density_per_km2'].to_numpy(), width, label='Density_per_km2', color = colors[2])\n",
    "\n",
    "axs[1,0].set_xlabel('Municipality')\n",
    "axs[1,0].set_xticks(x)\n",
    "axs[1,0].set_ylabel('1/km^2')\n",
    "axs[1,0].legend()\n",
    "\n",
    "# Plot Number Neighborhood\n",
    "axs[1,1].bar(x, df['number_Neighborhoods'].to_numpy(), width, label='number_Neighborhoods', color = colors[3])\n",
    "axs[1,1].set_xlabel('Municipality')\n",
    "axs[1,1].set_xticks(x)\n",
    "axs[1,1].legend()\n"
   ]
  },
  {
   "cell_type": "markdown",
   "metadata": {},
   "source": [
    "We can note that population is concentrated primarly in municipality with lower surface. So in this area there is a greater density of population and a greater number of neighborhoods (*second municipality shows 6 neighborhoods and ~20000 people per squared kilometer*)"
   ]
  },
  {
   "cell_type": "markdown",
   "metadata": {},
   "source": [
    "_Let's see some scatter to better highlight these features_\n"
   ]
  },
  {
   "cell_type": "code",
   "execution_count": 14,
   "metadata": {},
   "outputs": [
    {
     "data": {
      "text/plain": [
       "Text(0, 0.5, 'Population')"
      ]
     },
     "execution_count": 14,
     "metadata": {},
     "output_type": "execute_result"
    },
    {
     "data": {
      "image/png": "[encoded data removed]",
      "text/plain": [
       "<Figure size 432x288 with 1 Axes>"
      ]
     },
     "metadata": {
      "needs_background": "light"
     },
     "output_type": "display_data"
    }
   ],
   "source": [
    "plt.scatter(df['Surface_km2'], df['Population'])\n",
    "plt.xlabel('Surface km^2')\n",
    "plt.ylabel('Population')"
   ]
  },
  {
   "cell_type": "markdown",
   "metadata": {},
   "source": [
    "There is a net separation at 12 squared kilometers. Let's count the overall population at this cut value"
   ]
  },
  {
   "cell_type": "code",
   "execution_count": 15,
   "metadata": {},
   "outputs": [
    {
     "name": "stdout",
     "output_type": "stream",
     "text": [
      "Population with in municipality with Surface lower than 12 squared kilometers: 585358\n",
      "Population with in municipality with Surface greater than 12 squared kilometers: 438748\n"
     ]
    }
   ],
   "source": [
    "dfLower = df[df['Surface_km2']<12]\n",
    "populationLower = dfLower['Population'].sum()\n",
    "\n",
    "dfUpper = df[df['Surface_km2']>12]\n",
    "populationUpper = dfUpper['Population'].sum()\n",
    "\n",
    "print(\"Population with in municipality with Surface lower than 12 squared kilometers: %d\" % populationLower)\n",
    "print(\"Population with in municipality with Surface greater than 12 squared kilometers: %d\" % populationUpper)\n"
   ]
  },
  {
   "cell_type": "code",
   "execution_count": 16,
   "metadata": {},
   "outputs": [
    {
     "data": {
      "text/plain": [
       "Text(0, 0.5, 'Population')"
      ]
     },
     "execution_count": 16,
     "metadata": {},
     "output_type": "execute_result"
    },
    {
     "data": {
      "image/png": "[encoded data removed]",
      "text/plain": [
       "<Figure size 432x288 with 1 Axes>"
      ]
     },
     "metadata": {
      "needs_background": "light"
     },
     "output_type": "display_data"
    }
   ],
   "source": [
    "plt.scatter(df['number_Neighborhoods'], df['Population'])\n",
    "plt.xlabel('number_Neighborhoods')\n",
    "plt.ylabel('Population')"
   ]
  },
  {
   "cell_type": "markdown",
   "metadata": {},
   "source": [
    "The population is primarly concentrated in municipality with low number of Neighborhoods"
   ]
  },
  {
   "cell_type": "code",
   "execution_count": 17,
   "metadata": {},
   "outputs": [
    {
     "data": {
      "text/plain": [
       "Text(0, 0.5, 'Surface_km2')"
      ]
     },
     "execution_count": 17,
     "metadata": {},
     "output_type": "execute_result"
    },
    {
     "data": {
      "image/png": "[encoded data removed]",
      "text/plain": [
       "<Figure size 432x288 with 1 Axes>"
      ]
     },
     "metadata": {
      "needs_background": "light"
     },
     "output_type": "display_data"
    }
   ],
   "source": [
    "plt.scatter(df['number_Neighborhoods'], df['Surface_km2'])\n",
    "plt.xlabel('number_Neighborhoods')\n",
    "plt.ylabel('Surface_km2')"
   ]
  },
  {
   "cell_type": "markdown",
   "metadata": {},
   "source": [
    "# Si prova ad estrarre i dati relativi alla temperatura"
   ]
  },
  {
   "cell_type": "code",
   "execution_count": 18,
   "metadata": {},
   "outputs": [],
   "source": [
    "## Per Prima cosa devo riuscire a estrarre la wikitable ---> \n",
    "## Poi devo entrare nel body della table ---> \n",
    "## Poi devo estrarre le tr ----> \n",
    "## nelle tr estrarre le td\n",
    "\n",
    "## Si può creare un data frame con le colonne che estraggo, inidiczzarlo per i mesi e poi fare la trasposta\n",
    "\n",
    "## Plottare l'andamento della temperatura con i mesi insieme alla deviazione standard come limiti di confidenza \n",
    "## Si può fare anche un barplot della rain sovrapposto a quello della temperatura\n",
    "## E poi si può aggiungere il valore medio dell'umidità"
   ]
  },
  {
   "cell_type": "code",
   "execution_count": 20,
   "metadata": {},
   "outputs": [
    {
     "data": {
      "text/html": [
       "<div>\n",
       "<style scoped>\n",
       "    .dataframe tbody tr th:only-of-type {\n",
       "        vertical-align: middle;\n",
       "    }\n",
       "\n",
       "    .dataframe tbody tr th {\n",
       "        vertical-align: top;\n",
       "    }\n",
       "\n",
       "    .dataframe thead th {\n",
       "        text-align: right;\n",
       "    }\n",
       "</style>\n",
       "<table border=\"1\" class=\"dataframe\">\n",
       "  <thead>\n",
       "    <tr style=\"text-align: right;\">\n",
       "      <th></th>\n",
       "      <th>Unnamed: 0</th>\n",
       "      <th>January</th>\n",
       "      <th>February</th>\n",
       "      <th>March</th>\n",
       "      <th>April</th>\n",
       "      <th>May</th>\n",
       "      <th>June</th>\n",
       "      <th>July</th>\n",
       "      <th>August</th>\n",
       "      <th>September</th>\n",
       "      <th>October</th>\n",
       "      <th>November</th>\n",
       "      <th>December</th>\n",
       "    </tr>\n",
       "  </thead>\n",
       "  <tbody>\n",
       "    <tr>\n",
       "      <th>0</th>\n",
       "      <td>Avg. Temperature (°C)</td>\n",
       "      <td>8.6</td>\n",
       "      <td>9.2</td>\n",
       "      <td>10.9</td>\n",
       "      <td>13.3</td>\n",
       "      <td>17.2</td>\n",
       "      <td>21.0</td>\n",
       "      <td>23.3</td>\n",
       "      <td>23.6</td>\n",
       "      <td>21.0</td>\n",
       "      <td>17.0</td>\n",
       "      <td>13.0</td>\n",
       "      <td>9.9</td>\n",
       "    </tr>\n",
       "    <tr>\n",
       "      <th>1</th>\n",
       "      <td>Min. Temperature (°C)</td>\n",
       "      <td>4.9</td>\n",
       "      <td>5.2</td>\n",
       "      <td>6.7</td>\n",
       "      <td>8.9</td>\n",
       "      <td>12.5</td>\n",
       "      <td>16.0</td>\n",
       "      <td>18.1</td>\n",
       "      <td>18.3</td>\n",
       "      <td>16.2</td>\n",
       "      <td>12.6</td>\n",
       "      <td>9.1</td>\n",
       "      <td>6.3</td>\n",
       "    </tr>\n",
       "    <tr>\n",
       "      <th>2</th>\n",
       "      <td>Max. Temperature (°C)</td>\n",
       "      <td>12.4</td>\n",
       "      <td>13.2</td>\n",
       "      <td>15.1</td>\n",
       "      <td>17.8</td>\n",
       "      <td>22.0</td>\n",
       "      <td>26.0</td>\n",
       "      <td>28.6</td>\n",
       "      <td>29.0</td>\n",
       "      <td>25.9</td>\n",
       "      <td>21.5</td>\n",
       "      <td>17.0</td>\n",
       "      <td>13.5</td>\n",
       "    </tr>\n",
       "    <tr>\n",
       "      <th>3</th>\n",
       "      <td>Avg. Temperature (°F)</td>\n",
       "      <td>47.5</td>\n",
       "      <td>48.6</td>\n",
       "      <td>51.6</td>\n",
       "      <td>55.9</td>\n",
       "      <td>63.0</td>\n",
       "      <td>69.8</td>\n",
       "      <td>73.9</td>\n",
       "      <td>74.5</td>\n",
       "      <td>69.8</td>\n",
       "      <td>62.6</td>\n",
       "      <td>55.4</td>\n",
       "      <td>49.8</td>\n",
       "    </tr>\n",
       "    <tr>\n",
       "      <th>4</th>\n",
       "      <td>Min. Temperature (°F)</td>\n",
       "      <td>40.8</td>\n",
       "      <td>41.4</td>\n",
       "      <td>44.1</td>\n",
       "      <td>48.0</td>\n",
       "      <td>54.5</td>\n",
       "      <td>60.8</td>\n",
       "      <td>64.6</td>\n",
       "      <td>64.9</td>\n",
       "      <td>61.2</td>\n",
       "      <td>54.7</td>\n",
       "      <td>48.4</td>\n",
       "      <td>43.3</td>\n",
       "    </tr>\n",
       "    <tr>\n",
       "      <th>5</th>\n",
       "      <td>Max. Temperature (°F)</td>\n",
       "      <td>54.3</td>\n",
       "      <td>55.8</td>\n",
       "      <td>59.2</td>\n",
       "      <td>64.0</td>\n",
       "      <td>71.6</td>\n",
       "      <td>78.8</td>\n",
       "      <td>83.5</td>\n",
       "      <td>84.2</td>\n",
       "      <td>78.6</td>\n",
       "      <td>70.7</td>\n",
       "      <td>62.6</td>\n",
       "      <td>56.3</td>\n",
       "    </tr>\n",
       "    <tr>\n",
       "      <th>6</th>\n",
       "      <td>Precipitation / Rainfall (mm)</td>\n",
       "      <td>100.0</td>\n",
       "      <td>84.0</td>\n",
       "      <td>76.0</td>\n",
       "      <td>68.0</td>\n",
       "      <td>44.0</td>\n",
       "      <td>29.0</td>\n",
       "      <td>21.0</td>\n",
       "      <td>37.0</td>\n",
       "      <td>71.0</td>\n",
       "      <td>112.0</td>\n",
       "      <td>141.0</td>\n",
       "      <td>111.0</td>\n",
       "    </tr>\n",
       "  </tbody>\n",
       "</table>\n",
       "</div>"
      ],
      "text/plain": [
       "                      Unnamed: 0  January  February  March  April   May  June  \\\n",
       "0          Avg. Temperature (°C)      8.6       9.2   10.9   13.3  17.2  21.0   \n",
       "1          Min. Temperature (°C)      4.9       5.2    6.7    8.9  12.5  16.0   \n",
       "2          Max. Temperature (°C)     12.4      13.2   15.1   17.8  22.0  26.0   \n",
       "3          Avg. Temperature (°F)     47.5      48.6   51.6   55.9  63.0  69.8   \n",
       "4          Min. Temperature (°F)     40.8      41.4   44.1   48.0  54.5  60.8   \n",
       "5          Max. Temperature (°F)     54.3      55.8   59.2   64.0  71.6  78.8   \n",
       "6  Precipitation / Rainfall (mm)    100.0      84.0   76.0   68.0  44.0  29.0   \n",
       "\n",
       "   July  August  September  October  November  December  \n",
       "0  23.3    23.6       21.0     17.0      13.0       9.9  \n",
       "1  18.1    18.3       16.2     12.6       9.1       6.3  \n",
       "2  28.6    29.0       25.9     21.5      17.0      13.5  \n",
       "3  73.9    74.5       69.8     62.6      55.4      49.8  \n",
       "4  64.6    64.9       61.2     54.7      48.4      43.3  \n",
       "5  83.5    84.2       78.6     70.7      62.6      56.3  \n",
       "6  21.0    37.0       71.0    112.0     141.0     111.0  "
      ]
     },
     "execution_count": 20,
     "metadata": {},
     "output_type": "execute_result"
    }
   ],
   "source": [
    "## Define url\n",
    "url = \"https://en.climate-data.org/europe/italy/campania/naples-4561/\"\n",
    "    \n",
    "## Scrape site\n",
    "res_temperature = requests.get(url)\n",
    "soup_temperature = BeautifulSoup(res_temperature.content, features='html')\n",
    "\n",
    "## extract wiki table\n",
    "table_temp = soup_temperature.find_all('table', attrs={\"id\":\"weather_table\"}) ## la table è unica\n",
    "\n",
    "df_temp = pd.read_html(str(table_temp))[0]\n",
    "df_temp"
   ]
  },
  {
   "cell_type": "code",
   "execution_count": null,
   "metadata": {},
   "outputs": [],
   "source": [
    "Usare seaborn per plottare i livelli di confidenza. Fare Barplot piovosità"
   ]
  },
  {
   "cell_type": "code",
   "execution_count": null,
   "metadata": {},
   "outputs": [],
   "source": []
  },
  {
   "cell_type": "markdown",
   "metadata": {},
   "source": [
    "# Giusto per fare anche un confronto con New York per avere una idea"
   ]
  },
  {
   "cell_type": "markdown",
   "metadata": {},
   "source": [
    "## Nella prossima sezione si vedrà l'applicazione di Foursquare API per estrarre i locali presenti in ogni sezione "
   ]
  },
  {
   "cell_type": "code",
   "execution_count": null,
   "metadata": {},
   "outputs": [],
   "source": []
  },
  {
   "cell_type": "code",
   "execution_count": null,
   "metadata": {},
   "outputs": [],
   "source": []
  }
 ],
 "metadata": {
  "kernelspec": {
   "display_name": "Python 3.7.6 64-bit",
   "language": "python",
   "name": "python37664bit3851e706179449cf8666eb08db445c37"
  },
  "language_info": {
   "codemirror_mode": {
    "name": "ipython",
    "version": 3
   },
   "file_extension": ".py",
   "mimetype": "text/x-python",
   "name": "python",
   "nbconvert_exporter": "python",
   "pygments_lexer": "ipython3",
   "version": "3.7.6"
  }
 },
 "nbformat": 4,
 "nbformat_minor": 4
}
